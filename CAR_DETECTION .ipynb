{
 "cells": [
  {
   "cell_type": "code",
   "execution_count": 1,
   "metadata": {},
   "outputs": [],
   "source": [
    "#import libraries of python opencv\n",
    "import cv2\n",
    "import numpy as np\n",
    "\n",
    "#create VideoCapture object and read from video file\n",
    "cap = cv2.VideoCapture('cars.mp4')\n",
    "#use trained cars XML classifiers\n",
    "car_cascade = cv2.CascadeClassifier('cars.xml')\n",
    "\n",
    "#read until video is completed\n",
    "while True:\n",
    "    #capture frame by frame m\n",
    "    ret, frame = cap.read()\n",
    "    #convert video into gray scale of each frames\n",
    "    gray = cv2.cvtColor(frame, cv2.COLOR_BGR2GRAY)\n",
    "\n",
    "    #detect cars in the video\n",
    "    cars = car_cascade.detectMultiScale(gray, 1.1, 3)\n",
    "\n",
    "    #to draw arectangle in each cars \n",
    "    for (x,y,w,h) in cars:\n",
    "        cv2.rectangle(frame,(x,y),(x+w,y+h),(0,255,0),2)      \n",
    "\n",
    "    #display the resulting frame\n",
    "    cv2.imshow('video', frame)\n",
    "    #press Q on keyboard to exit\n",
    "    if cv2.waitKey(25) & 0xFF == ord('q'):\n",
    "        break\n",
    "#release the videocapture object\n",
    "cap.release()\n",
    "#close all the frames\n",
    "cv2.destroyAllWindows()\n"
   ]
  },
  {
   "cell_type": "code",
   "execution_count": null,
   "metadata": {
    "collapsed": true
   },
   "outputs": [],
   "source": []
  }
 ],
 "metadata": {
  "kernelspec": {
   "display_name": "Python 3",
   "language": "python",
   "name": "python3"
  },
  "language_info": {
   "codemirror_mode": {
    "name": "ipython",
    "version": 3
   },
   "file_extension": ".py",
   "mimetype": "text/x-python",
   "name": "python",
   "nbconvert_exporter": "python",
   "pygments_lexer": "ipython3",
   "version": "3.6.2"
  }
 },
 "nbformat": 4,
 "nbformat_minor": 2
}
